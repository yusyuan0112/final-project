{
  "nbformat": 4,
  "nbformat_minor": 0,
  "metadata": {
    "colab": {
      "name": "期末報告.ipynb",
      "provenance": [],
      "include_colab_link": true
    },
    "kernelspec": {
      "name": "python3",
      "display_name": "Python 3"
    }
  },
  "cells": [
    {
      "cell_type": "markdown",
      "metadata": {
        "id": "view-in-github",
        "colab_type": "text"
      },
      "source": [
        "<a href=\"https://colab.research.google.com/github/yusyuan0112/final-project/blob/master/%E6%9C%9F%E6%9C%AB%E5%A0%B1%E5%91%8A.ipynb\" target=\"_parent\"><img src=\"https://colab.research.google.com/assets/colab-badge.svg\" alt=\"Open In Colab\"/></a>"
      ]
    },
    {
      "cell_type": "code",
      "metadata": {
        "id": "g6A_t6Di1bXE",
        "colab_type": "code",
        "outputId": "d0b01bc7-2a91-46e4-cdc5-0ddb897d7e0e",
        "colab": {
          "base_uri": "https://localhost:8080/",
          "height": 202
        }
      },
      "source": [
        "print(\"晚上好~\")\n",
        "ans=input(\"吃過晚餐了嗎?(吃過了/還沒)\")\n",
        "if ans==\"吃過了\":\n",
        "  a=input(\"那你要不要猜我今天晚上吃飯還是麵?\")\n",
        "  if a==\"飯\":\n",
        "    cprice = 88\n",
        "    gprice=int(input(\"那你猜我吃的飯多少錢(0~100)\"))\n",
        "    while (gprice != cprice):\n",
        "      print(\"你猜錯了\")\n",
        "      if gprice > cprice :\n",
        "        print(\"沒有那麼貴啦!再便宜一點\")\n",
        "      else:\n",
        "        print(\"你以為這裡是哪裡~便當沒那麼便宜啦，再貴一點\")\n",
        "      gprice=int(input(\"那你猜我吃的飯多少錢(0~100)\"))\n",
        "    print(\"你真厲害\",\"正確價錢就是\",cprice)\n",
        "  else:\n",
        "    print(\"哈哈哈哈哈二選一妳也猜錯!\")\n",
        "else:\n",
        "  print(\"那趕快去吃喔!\")\n",
        "  \n",
        "\n",
        "\n",
        "\n",
        "\n"
      ],
      "execution_count": 0,
      "outputs": [
        {
          "output_type": "stream",
          "text": [
            "晚上好~\n",
            "吃過晚餐了嗎?(吃過了/還沒)吃過了\n",
            "那你要不要猜我今天晚上吃飯還是麵?飯\n",
            "那你猜我吃的飯多少錢(0~100)90\n",
            "你猜錯了\n",
            "沒有那麼貴啦!再便宜一點\n",
            "那你猜我吃的飯多少錢(0~100)70\n",
            "你猜錯了\n",
            "你以為這裡是哪裡~便當沒那麼便宜啦，再貴一點\n",
            "那你猜我吃的飯多少錢(0~100)88\n",
            "你真厲害 正確價錢就是 88\n"
          ],
          "name": "stdout"
        }
      ]
    }
  ]
}